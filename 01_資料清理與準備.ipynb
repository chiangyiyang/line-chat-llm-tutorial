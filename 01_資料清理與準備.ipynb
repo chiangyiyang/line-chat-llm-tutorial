{
 "cells": [
  {
   "cell_type": "markdown",
   "id": "a7db0320",
   "metadata": {},
   "source": [
    "# 筆記本 1：從聊天記錄中提取和格式化事件資訊\n",
    "\n",
    "### 目標\n",
    "在此範例中，我們將從聊天記錄中提取與事件（如落石或停電）相關的資訊，並將其格式化為簡潔的摘要。\n",
    "\n",
    "### 操作概要\n",
    "1. **聊天記錄格式:** 我們的聊天記錄檔案，內容中記載了日期、事件類型及其描述。\n",
    "2. 通過正則表達式來匹配聊天記錄中的日期和事件類型。\n",
    "3. 將提取出的事件資料格式化為摘要並儲存至文件中。\n"
   ]
  },
  {
   "cell_type": "code",
   "execution_count": null,
   "id": "462f975b",
   "metadata": {},
   "outputs": [],
   "source": [
    "# 安裝必要的 Python 套件\n",
    "!pip install pandas"
   ]
  },
  {
   "cell_type": "code",
   "execution_count": null,
   "id": "f810eead",
   "metadata": {},
   "outputs": [],
   "source": [
    "# 匯入必要的套件\n",
    "import re\n",
    "from collections import defaultdict\n",
    "import pandas as pd"
   ]
  },
  {
   "cell_type": "markdown",
   "id": "4bb88393",
   "metadata": {},
   "source": [
    "### 聊天記錄格式範例\n",
    "假設聊天記錄的格式如下：\n",
    "\n",
    "```plaintext\n",
    "[LINE] Chat history in 華陵里里民（公務）平台\n",
    "Saved on: 2024/04/05, 17:53\n",
    "\n",
    "2023/05/29, Mon\n",
    "09:19 AM\t\t⁨⁨Keith Lee⁩⁩ invited ⁨⁨菁⁩⁩ to the group. Wait for them to join before chatting.\n",
    "09:19 AM\t\t⁨⁨菁⁩⁩ joined the group.\n",
    "09:24 AM\t陳豙殳\t[Sticker]\n",
    "11:34 AM\t阿旭\t\"大家平安\n",
    "里辦公處〔再次宣導〕\n",
    "毛小孩結紮\n",
    "謝謝大家🙂\n",
    "\n",
    "有關〔家犬家貓結紮〕\n",
    "\n",
    "請有需要的民眾，趕快找我我（里幹事-阿旭）登記喔，基於個資，記得〔請私賴我〕感謝您🙆‍♂️。\n",
    "\n",
    "時間：\n",
    "第一天：\n",
    "```\n",
    "我們將從這樣的格式中提取事件，並將它們分格式保存。"
   ]
  },
  {
   "cell_type": "markdown",
   "id": "8c5cb497",
   "metadata": {},
   "source": [
    "### 步驟 1：定義事件解析函數\n",
    "以下函數會解析聊天記錄中的日期與事件描述，並將事件按照日期和類型儲存。\n"
   ]
  },
  {
   "cell_type": "code",
   "execution_count": null,
   "id": "acdbf03f",
   "metadata": {},
   "outputs": [],
   "source": [
    "def parse_events(chat_content):\n",
    "    \"\"\"\n",
    "    解析聊天內容，提取特定事件的日期和描述。\n",
    "    回傳以日期和事件類型為索引的事件字典。\n",
    "    \"\"\"\n",
    "    events_by_date = defaultdict(lambda: defaultdict(list))\n",
    "    current_date = None\n",
    "    target_event_types = ['落石', '停電']  # 可根據需求擴充其他事件類型\n",
    "    \n",
    "    # 逐行處理聊天內容\n",
    "    for line in chat_content.splitlines():\n",
    "        # 檢查是否為日期行，例如：2024/11/08\n",
    "        date_match = re.match(r'^(\\d{4}/\\d{2}/\\d{2}),', line)\n",
    "        if date_match:\n",
    "            current_date = date_match.group(1)\n",
    "        elif current_date:\n",
    "            # 根據事件類型提取事件描述\n",
    "            for event_type in target_event_types:\n",
    "                if event_type in line:\n",
    "                    event_details = re.sub(r'\\d{2}:\\d{2} (AM|PM)\\t.*?\\t', '', line).strip()\n",
    "                    events_by_date[current_date][event_type].append(event_details)\n",
    "    return events_by_date\n",
    "\n",
    "# 測試解析函數\n",
    "chat_content = '''\n",
    "2023/06/05, Mon\n",
    "05:31 AM\t\t呂銘樹 unsent a message.\n",
    "06:08 AM\t芋頭\t[Photo]\n",
    "06:08 AM\t芋頭\t舅媽里長 下巴崚有落石\n",
    "06:23 AM\t華陵里里長 梁雅惠\t[Sticker]\n",
    "06:25 AM\t華陵里里長 梁雅惠\t已通報了\n",
    "06:36 AM\t\t吳世傑 unsent a message.\n",
    "'''\n",
    "\n",
    "parsed_events = parse_events(chat_content)\n",
    "parsed_events"
   ]
  },
  {
   "cell_type": "markdown",
   "id": "e6b533c1",
   "metadata": {},
   "source": [
    "### 步驟 2：定義事件摘要格式化函數\n",
    "此函數會將儲存的事件信息格式化，讓它們變成可讀的摘要，並儲存到文件中。\n"
   ]
  },
  {
   "cell_type": "code",
   "execution_count": null,
   "id": "683b47db",
   "metadata": {},
   "outputs": [],
   "source": [
    "def format_event_summary(events_by_date):\n",
    "    \"\"\"\n",
    "    格式化事件字典，生成指定格式的事件摘要。\n",
    "    \"\"\"\n",
    "    return '\\n'.join(\n",
    "        f\"{date}，{event_type}，{'；'.join(details)}\"\n",
    "        for date, event_types in events_by_date.items()\n",
    "        for event_type, details in event_types.items()\n",
    "    )\n",
    "\n",
    "# 測試格式化函數\n",
    "formatted_event_summary = format_event_summary(parsed_events)\n",
    "print(formatted_event_summary)"
   ]
  },
  {
   "cell_type": "markdown",
   "id": "f583070a",
   "metadata": {},
   "source": [
    "### 步驟 3：定義讀取和寫入檔案的輔助函數\n",
    "我們需要編寫讀取檔案和將結果寫入檔案的輔助函數。"
   ]
  },
  {
   "cell_type": "code",
   "execution_count": null,
   "id": "a629f30c",
   "metadata": {},
   "outputs": [],
   "source": [
    "def read_file(filepath):\n",
    "    \"\"\"讀取檔案內容並回傳字串。\"\"\"\n",
    "    with open(filepath, 'r', encoding='utf-8') as file:\n",
    "        return file.read()\n",
    "\n",
    "def write_file(filepath, content):\n",
    "    \"\"\"將字串內容寫入指定的檔案。\"\"\"\n",
    "    with open(filepath, 'w', encoding='utf-8') as file:\n",
    "        file.write(content)\n",
    "\n",
    "# 測試讀取與寫入文件\n",
    "test_content = read_file('chat_history.txt')  # 請確認這檔案存在，內容可參照本文範例聊天記錄格式\n",
    "print(test_content[:100])  # 印出前100字元查看"
   ]
  },
  {
   "cell_type": "markdown",
   "id": "af1911f6",
   "metadata": {},
   "source": [
    "### 步驟 4：整合所有步驟至主函數\n",
    "主函數將會將所有流程自動化：讀取文件 -> 解析 -> 格式化 -> 寫入。"
   ]
  },
  {
   "cell_type": "code",
   "execution_count": null,
   "id": "1f74a762",
   "metadata": {},
   "outputs": [],
   "source": [
    "def main(input_file, output_file):\n",
    "    # 讀取檔案\n",
    "    chat_content = read_file(input_file)\n",
    "\n",
    "    # 解析事件\n",
    "    events_by_date = parse_events(chat_content)\n",
    "\n",
    "    # 格式化事件摘要\n",
    "    formatted_event_summary = format_event_summary(events_by_date)\n",
    "\n",
    "    # 將事件摘要寫入輸出檔案\n",
    "    write_file(output_file, formatted_event_summary)\n",
    "    print(f'事件摘要已儲存到 {output_file}')\n",
    "\n",
    "# 調用主函數進行完整程序操作\n",
    "main('chat_history.txt', 'output_summary.txt')"
   ]
  },
  {
   "cell_type": "markdown",
   "id": "15352d36",
   "metadata": {},
   "source": [
    "### 結論\n",
    "- 在本教程中，我們學習如何從聊天記錄中提取和格式化特定事件的資訊。\n",
    "    - 格式化後的事件摘要將易於進行後續的分析工作（如事件趨勢、統計分析等）。\n",
    "- 下一步可以將結果應用於更進階的可視化分析或數據處理。\n"
   ]
  }
 ],
 "metadata": {
  "kernelspec": {
   "display_name": "env",
   "language": "python",
   "name": "python3"
  },
  "language_info": {
   "codemirror_mode": {
    "name": "ipython",
    "version": 3
   },
   "file_extension": ".py",
   "mimetype": "text/x-python",
   "name": "python",
   "nbconvert_exporter": "python",
   "pygments_lexer": "ipython3",
   "version": "3.11.8"
  }
 },
 "nbformat": 4,
 "nbformat_minor": 5
}
