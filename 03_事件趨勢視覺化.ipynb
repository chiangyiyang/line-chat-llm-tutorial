{
 "cells": [
  {
   "cell_type": "markdown",
   "id": "4cf99620",
   "metadata": {},
   "source": [
    "# 筆記本 3：繪製事件發生圖表\n",
    "\n",
    "在這個範例中，我們將學習如何透過 `matplotlib` 和 `pandas` 繪製一個事件發生圖表。本圖表將展示如「落石」和「停電」這類事件在不同日期的分佈，幫助我們分析事件的發生時間趨勢。\n",
    "\n",
    "### 需求\n",
    "1. **輸入檔案**：一個 CSV 檔案，檔案中包含事件的日期、類型等資訊。\n",
    "2. **輸出圖表**：一張展示事件類型和發生日期的散點圖。\n",
    "3. **畫布設置**：我們將使用顏色來區分不同的事件類型，並將日期作為 X 軸，事件類型作為 Y 軸。\n",
    "\n",
    "### 主要學習內容\n",
    "- 如何使用 `pandas` 來處理 CSV 文件。\n",
    "- 如何使用 `matplotlib` 來繪製包含中文標籤的圖表。\n",
    "- 如何使用命令行參數來自動設置輸入輸出文件和圖表標題。\n"
   ]
  },
  {
   "cell_type": "code",
   "execution_count": null,
   "id": "578a3597",
   "metadata": {},
   "outputs": [],
   "source": [
    "# 安裝必要的 Python 套件\n",
    "!pip install matplotlib pandas"
   ]
  },
  {
   "cell_type": "markdown",
   "id": "6c9593d5",
   "metadata": {},
   "source": [
    "### 步驟 1: 定義繪製圖表的函數\n",
    "這個函數負責讀取 CSV 檔案，處理日期和事件類型的數據，並以散點圖的形式顯示事件發生日期。"
   ]
  },
  {
   "cell_type": "code",
   "execution_count": null,
   "id": "d6af3cab",
   "metadata": {},
   "outputs": [],
   "source": [
    "import matplotlib.pyplot as plt\n",
    "import pandas as pd\n",
    "import matplotlib\n",
    "from matplotlib.dates import DateFormatter, MonthLocator\n",
    "\n",
    "# 設置中文字型以正確顯示標籤\n",
    "matplotlib.rc('font', family='Microsoft JhengHei')\n",
    "\n",
    "def plot_event_occurrences(input_file, output_file, title):\n",
    "    \"\"\"\n",
    "    根據給定的 CSV 檔案繪製事件發生圖表\n",
    "    \"\"\"\n",
    "    # 讀取數據\n",
    "    data = pd.read_csv(input_file, sep=',', encoding='utf-8')\n",
    "\n",
    "    # 將日期字符串轉換為日期對象\n",
    "    data['日期'] = pd.to_datetime(data['日期'])\n",
    "\n",
    "    # 定義事件類型到英文的映射，以便後續處理\n",
    "    event_type_mapping = {\n",
    "        '落石': 'Rockfall',\n",
    "        '停電': 'Power Outage'\n",
    "    }\n",
    "\n",
    "    # 將事件類型轉換為英文，方便在圖上分配顏色\n",
    "    data['事件類型英文'] = data['事件類型'].map(event_type_mapping)\n",
    "\n",
    "    # 為不同的事件類型分配不同的顏色\n",
    "    colors = {\n",
    "        'Rockfall': 'red',\n",
    "        'Power Outage': 'blue'\n",
    "    }\n",
    "\n",
    "    # 繪製散點圖\n",
    "    plt.figure(figsize=(12, 6))\n",
    "    for event_type, color in colors.items():\n",
    "        subset = data[data['事件類型英文'] == event_type]\n",
    "        y_position = 1 if event_type == 'Rockfall' else 0.5  # 設定Y軸位置\n",
    "        plt.scatter(subset['日期'], [y_position] * len(subset),\n",
    "                    c=color, label=event_type, alpha=0.6, s=50, edgecolor='k')\n",
    "\n",
    "    # 設置日期格式器和定位器\n",
    "    plt.gca().xaxis.set_major_locator(MonthLocator())\n",
    "    plt.gca().xaxis.set_major_formatter(DateFormatter('%Y-%m'))\n",
    "\n",
    "    # 設置標題與Y軸標籤\n",
    "    plt.title(title, fontsize=13, fontweight='bold')\n",
    "    plt.ylim(0, 1.5)\n",
    "    plt.yticks([1, 0.5], ['落石', '停電'], fontsize=13, fontweight='bold')\n",
    "    plt.grid(True)\n",
    "    plt.xticks(rotation=45)\n",
    "\n",
    "    # 調整佈局並保存成圖片\n",
    "    plt.tight_layout()\n",
    "    plt.savefig(output_file, dpi=300)\n",
    "    plt.show()\n",
    "\n",
    "# 測試函數\n",
    "plot_event_occurrences('event_log.txt', 'event_chart.png', '事件發生時間點')"
   ]
  },
  {
   "cell_type": "markdown",
   "id": "78420b38",
   "metadata": {},
   "source": [
    "### 步驟 2: 設置命令行參數解析\n",
    "接下來，我們將定義一個 `ArgumentParser` 類，用來從命令行接收輸入文件、輸出文件和圖表標題等參數。這樣我們之後即可通過命令行方便地進行輸入與輸出文件的指定。\n"
   ]
  },
  {
   "cell_type": "code",
   "execution_count": null,
   "id": "b43f5b09",
   "metadata": {},
   "outputs": [],
   "source": [
    "import argparse\n",
    "\n",
    "class CustomArgumentParser(argparse.ArgumentParser):\n",
    "    def __init__(self, *args, **kwargs):\n",
    "        super().__init__(*args, **kwargs)\n",
    "\n",
    "    def print_help(self, file=None):\n",
    "        # 自訂顯示的幫助訊息\n",
    "        help_message = f\"\"\"使用方法: {self.prog} [-h] -I 輸入檔案 -O 輸出圖表 [-T 標題]\n",
    "\n",
    "繪製事件發生圖表\n",
    "\n",
    "選項:\n",
    "  -h, --help            顯示此幫助訊息並退出\n",
    "  -I INPUT, --input INPUT\n",
    "                        輸入檔案\n",
    "  -O OUTPUT, --output OUTPUT\n",
    "                        輸出圖表\n",
    "  -T TITLE, --title TITLE\n",
    "                        圖表標題\n",
    "        \"\"\"\n",
    "        print(help_message, file=file)\n",
    "\n",
    "# 測試自訂 ArgumentParser\n",
    "parser = CustomArgumentParser(description=\"繪製事件發生圖表\")\n",
    "parser.add_argument('-I', '--input', type=str, required=True, help='輸入檔案')\n",
    "parser.add_argument('-O', '--output', type=str, required=True, help='輸出圖表')\n",
    "parser.add_argument('-T', '--title', type=str, default=\"事件發生頻率\", help='圖表標題')"
   ]
  },
  {
   "cell_type": "markdown",
   "id": "51082f2c",
   "metadata": {},
   "source": [
    "### 步驟 3: 主程序入口\n",
    "最後，我們通過主函數來解析參數，並將輸入參數傳遞給之前的繪圖函數，進行 CSV 資料讀取與散點圖生成。"
   ]
  },
  {
   "cell_type": "code",
   "execution_count": null,
   "id": "1fc4ca81",
   "metadata": {},
   "outputs": [],
   "source": [
    "import sys\n",
    "\n",
    "if __name__ == \"__main__\":\n",
    "    # 模擬命令列參數\n",
    "    sys.argv = ['03_visualize_event_trends.py', '-I', 'event_log.txt', '-O', 'event_chart.png', '-T', '事件頻率圖']\n",
    "    # 設置命令行參數解析\n",
    "    parser = CustomArgumentParser(description=\"繪製事件發生圖表\")\n",
    "    parser.add_argument('-I', '--input', type=str,\n",
    "                        required=True, help='輸入檔案')\n",
    "    parser.add_argument('-O', '--output', type=str, required=True, help='輸出圖表')\n",
    "    parser.add_argument('-T', '--title', type=str,\n",
    "                        default=\"事件發生頻率\", help='圖表標題')\n",
    "\n",
    "    args = parser.parse_args()\n",
    "\n",
    "    # 調用繪圖函數\n",
    "    plot_event_occurrences(args.input, args.output, args.title)\n"
   ]
  },
  {
   "cell_type": "markdown",
   "id": "348b190e",
   "metadata": {},
   "source": [
    "### 結論\n",
    "在本次教程中，我們學習了如何使用 `matplotlib` 和 `pandas` 繪製事件發生圖表，並用命令行參數來靈活設定輸入和輸出。同時，也介紹了如何使用自訂的字體來處理中文標籤，讓圖表在不同語言環境下都能正確顯示標籤。\n",
    "\n",
    "如有多次事件或數量較多的情況，可考慮進一步優化圖表，增加互動性或進一步分析事件趨勢。"
   ]
  }
 ],
 "metadata": {
  "kernelspec": {
   "display_name": "env",
   "language": "python",
   "name": "python3"
  },
  "language_info": {
   "codemirror_mode": {
    "name": "ipython",
    "version": 3
   },
   "file_extension": ".py",
   "mimetype": "text/x-python",
   "name": "python",
   "nbconvert_exporter": "python",
   "pygments_lexer": "ipython3",
   "version": "3.11.8"
  }
 },
 "nbformat": 4,
 "nbformat_minor": 5
}
