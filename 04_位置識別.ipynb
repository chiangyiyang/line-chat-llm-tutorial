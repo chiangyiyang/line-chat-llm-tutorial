{
 "cells": [
  {
   "cell_type": "markdown",
   "id": "184d6879",
   "metadata": {},
   "source": [
    "# 筆記本 4：處理地點清單\n",
    "在此範例中，我們將從 CSV 檔案中提取出唯一的地點名稱，並將它們儲存到另一個檔案。過程中也會去除重複的地點。\n",
    "\n",
    "## 操作步驟 \n",
    "- 載入一個包含地點資訊的 CSV 檔案。\n",
    "- 清理並去除重複的地點名稱。\n",
    "- 將處理後的唯一地點名稱列表存入新的 CSV 檔案。\n"
   ]
  },
  {
   "cell_type": "code",
   "execution_count": null,
   "id": "773d9da8",
   "metadata": {},
   "outputs": [],
   "source": [
    "# 匯入必要的 Python 套件\n",
    "import csv\n",
    "import pandas as pd\n"
   ]
  },
  {
   "cell_type": "markdown",
   "id": "4dcb7e7b",
   "metadata": {},
   "source": [
    "### 步驟 1：載入 CSV 檔案\n",
    "我們先把檔案讀入，並檢查資料專欄。\n",
    "假設原始檔案路徑為 `locations.csv`，其中地點資訊位於第三欄。"
   ]
  },
  {
   "cell_type": "code",
   "execution_count": null,
   "id": "21c36297",
   "metadata": {},
   "outputs": [],
   "source": [
    "# 定義輸入 CSV 檔案路徑\n",
    "input_csv = 'event_log.txt'\n",
    "\n",
    "# 使用 pandas 讀取 CSV 文件\n",
    "data = pd.read_csv(input_csv)\n",
    "data.head()  # 顯示 CSV 檔案的前幾行以檢查其內容"
   ]
  },
  {
   "cell_type": "markdown",
   "id": "0376d521",
   "metadata": {},
   "source": [
    "### 步驟 2：提取唯一地點名稱\n",
    "我們將從 CSV 檔案中第三欄（地點）提取並處理包含地點的欄位，去除重複地點並轉存成新檔案。"
   ]
  },
  {
   "cell_type": "code",
   "execution_count": null,
   "id": "928ce56f",
   "metadata": {},
   "outputs": [],
   "source": [
    "# 定義提取和保存唯一地點名稱的函數\n",
    "def extract_unique_places(input_csv, output_csv):\n",
    "    unique_places = set()  # 使用集合儲存地點，避免重複\n",
    "\n",
    "    # 讀取輸入的CSV檔案\n",
    "    with open(input_csv, 'r', encoding='utf-8') as infile:\n",
    "        csv_reader = csv.reader(infile)\n",
    "        next(csv_reader)  # 略過表頭列\n",
    "        for row in csv_reader:\n",
    "            place_field = row[2]  # 取得第三欄的'地點'欄位\n",
    "            # 使用分號分割地點，並去除多餘的空格\n",
    "            places = [place.strip() for place in place_field.split(';')]\n",
    "            # 將地點加入集合中，避免重複\n",
    "            unique_places.update(places)\n",
    "\n",
    "    # 將獨特的地點名稱寫入輸出的CSV檔案\n",
    "    with open(output_csv, 'w', encoding='utf-8', newline='') as outfile:\n",
    "        csv_writer = csv.writer(outfile)\n",
    "        csv_writer.writerow(['地名'])  # 寫入表頭\n",
    "        for place in sorted(unique_places):  # 排序地點名稱以保持輸出的一致性\n",
    "            csv_writer.writerow([place])\n",
    "\n",
    "    print(f\"轉換完成，請檢查輸出檔案：{output_csv}\")"
   ]
  },
  {
   "cell_type": "markdown",
   "id": "3a4ef223",
   "metadata": {},
   "source": [
    "### 步驟 3：儲存結果\n",
    "我們將去除重複的地點名稱後的列表存入一個新的 CSV 檔案。"
   ]
  },
  {
   "cell_type": "code",
   "execution_count": null,
   "id": "faf1a0f0",
   "metadata": {},
   "outputs": [],
   "source": [
    "# 定義輸出 CSV 檔案路徑\n",
    "output_csv = 'unique_places.csv'\n",
    "\n",
    "# 調用函數來提取唯一地點並存入到輸出檔案\n",
    "extract_unique_places(input_csv, output_csv)"
   ]
  },
  {
   "cell_type": "markdown",
   "id": "8f43d823",
   "metadata": {},
   "source": [
    "### 結論\n",
    "在這個範例中，我們成功提取了唯一的地點名稱並存入了新的 CSV 檔案。這個步驟可以有效地幫助我們在日後進行不同資料的地點對應或分析。\n",
    "\n",
    "接下來，你可以繼續處理這些地點名稱資料用於其他進階的分析或操作。"
   ]
  }
 ],
 "metadata": {
  "kernelspec": {
   "display_name": "env",
   "language": "python",
   "name": "python3"
  },
  "language_info": {
   "codemirror_mode": {
    "name": "ipython",
    "version": 3
   },
   "file_extension": ".py",
   "mimetype": "text/x-python",
   "name": "python",
   "nbconvert_exporter": "python",
   "pygments_lexer": "ipython3",
   "version": "3.11.8"
  }
 },
 "nbformat": 4,
 "nbformat_minor": 5
}
