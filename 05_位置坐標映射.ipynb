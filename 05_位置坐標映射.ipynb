{
 "cells": [
  {
   "cell_type": "markdown",
   "id": "042fccd0",
   "metadata": {},
   "source": [
    "# 筆記本 5：使用 Google Maps API 獲取地點建議和經緯度\n",
    "在本教程中，我們將學習如何使用 Google Maps API 從地名查詢中獲取地點建議和其對應的經緯度。我們會使用一個數據庫來避免重複的 API 調用，以提高效率。\n",
    "\n",
    "## 主要操作步驟\n",
    "1. 從輸入的地名列表中讀取地點資料。\n",
    "2. 結合 Google Maps API 查找符合的建議地點及經緯度。\n",
    "3. 使用本地數據庫儲存搜尋到的地點建議和經緯度，避免重複查詢。\n",
    "4. 保存結果到指定的 CSV 檔案中。\n"
   ]
  },
  {
   "cell_type": "markdown",
   "id": "0d42b72f",
   "metadata": {},
   "source": [
    "### 步驟 1：安裝所需的 Python 套件\n",
    "我們首先需要安裝 `pandas` 和 `googlemaps` 這兩個套件，分別用來處理資料表和執行地點查詢。"
   ]
  },
  {
   "cell_type": "code",
   "execution_count": null,
   "id": "90645b67",
   "metadata": {},
   "outputs": [],
   "source": [
    "!pip install pandas googlemaps"
   ]
  },
  {
   "cell_type": "markdown",
   "id": "bc9cc6f8",
   "metadata": {},
   "source": [
    "### 步驟 2：加載數據庫文件\n",
    "我們將首先嘗試從本地數據庫加載已經經過查詢處理的地名，避免重複查詢。\n",
    "- 若數據庫文件不存在或為空，會自動建立一個空的資料表。"
   ]
  },
  {
   "cell_type": "code",
   "execution_count": null,
   "id": "b8445ca5",
   "metadata": {},
   "outputs": [],
   "source": [
    "import pandas as pd\n",
    "import os\n",
    "\n",
    "def load_database_file(database_file_path):\n",
    "    \"\"\"\n",
    "    加載本地數據庫文件，返回包含地名、搜尋關鍵地名、建議地名、緯度和經度的 DataFrame。\n",
    "    如果數據庫文件不存在或為空，則返回一個空的 DataFrame。\n",
    "    \"\"\"\n",
    "    if os.path.exists(database_file_path):\n",
    "        try:\n",
    "            return pd.read_csv(database_file_path, sep='|')\n",
    "        except pd.errors.EmptyDataError:\n",
    "            # 如果文件為空，返回一個空的 DataFrame\n",
    "            return pd.DataFrame(columns=['地名', '搜尋關鍵地名', '建議地名', '緯度', '經度'])\n",
    "    else:\n",
    "        # 如果文件不存在，返回一個空的 DataFrame\n",
    "        return pd.DataFrame(columns=['地名', '搜尋關鍵地名', '建議地名', '緯度', '經度'])\n",
    "\n",
    "# 測試數據庫加載函數\n",
    "database_df = load_database_file('database.csv')\n",
    "database_df.head()"
   ]
  },
  {
   "cell_type": "markdown",
   "id": "b913237a",
   "metadata": {},
   "source": [
    "### 步驟 3：處理地名建議和地理位置\n",
    "接下來，我們將使用 Google Maps API，通過 `autocomplete` 方法獲取地名建議，並進一步通過 `geocode` 方法獲取建議地名的經緯度。\n",
    "- 每次 API 查詢前，先檢查數據庫，若記錄已存在則跳過查詢；否則執行外部查詢並更新數據庫。\n"
   ]
  },
  {
   "cell_type": "code",
   "execution_count": null,
   "id": "f68ab3ad",
   "metadata": {},
   "outputs": [],
   "source": [
    "import googlemaps\n",
    "\n",
    "def fetch_place_suggestion(gmaps_client, query):\n",
    "    \"\"\"\n",
    "    使用 Google Place Autocomplete API 獲取地點建議，只返回最接近的建議。\n",
    "    \"\"\"\n",
    "    suggestions = gmaps_client.places_autocomplete(query)\n",
    "    if suggestions:\n",
    "        return suggestions[0]['description']\n",
    "    return None\n",
    "\n",
    "\n",
    "def fetch_geolocation(gmaps_client, place_name):\n",
    "    \"\"\"\n",
    "    根據地名獲取其經緯度，若找不到返回 (None, None)。\n",
    "    \"\"\"\n",
    "    geocode_result = gmaps_client.geocode(place_name)\n",
    "    if geocode_result:\n",
    "        location = geocode_result[0]['geometry']['location']\n",
    "        return (location['lat'], location['lng'])\n",
    "    return (None, None)\n",
    "\n",
    "# 測試 Google Maps API 呼叫\n",
    "gmaps_client = googlemaps.Client(key='YOUR_GOOGLE_API_KEY')\n",
    "place_suggestion = fetch_place_suggestion(gmaps_client, 'Taipei 101')\n",
    "# 示例返回的地點建議\n",
    "print(place_suggestion)\n",
    "\n",
    "place_geolocation = fetch_geolocation(gmaps_client, place_suggestion)\n",
    "# 示例返回的地點座標\n",
    "print(place_geolocation)\n"
   ]
  },
  {
   "cell_type": "markdown",
   "id": "3557318c",
   "metadata": {},
   "source": [
    "### 步驟 4：更新數據庫並存入結果\n",
    "通過 API 回傳的數據，我們會將其結果更新到現有的數據庫中，然後將最終結果保存到新的 CSV 檔案中。"
   ]
  },
  {
   "cell_type": "code",
   "execution_count": null,
   "id": "e8da79b5",
   "metadata": {},
   "outputs": [],
   "source": [
    "def save_database_to_file(database_file_path, database):\n",
    "    \"\"\"\n",
    "    將數據庫內容保存到指定的 CSV 文件，使用 '|' 作為分隔符。\n",
    "    \"\"\"\n",
    "    database.to_csv(database_file_path, index=False, sep='|',\n",
    "                    columns=['地名', '搜尋關鍵地名', '建議地名', '緯度', '經度'])\n",
    "\n",
    "# 假設我們取得了新數據，更新數據庫 \n",
    "new_record = pd.DataFrame({\n",
    "    '地名': ['新北市'],\n",
    "    '搜尋關鍵地名': ['Taipei 新北市'],\n",
    "    '建議地名': ['New Taipei City, Taiwan'],\n",
    "    '緯度': [25.0169834],\n",
    "    '經度': [121.4627871]\n",
    "})\n",
    "database_df = pd.concat([database_df, new_record], ignore_index=True)\n",
    "\n",
    "# 將更新後的數據庫保存為 CSV\n",
    "save_database_to_file('updated_database.csv', database_df)\n",
    "\n",
    "# 檢查文件是否寫入正確\n",
    "print('保存完成，請檢查輸出檔案 updated_database.csv')"
   ]
  },
  {
   "cell_type": "code",
   "execution_count": null,
   "id": "85239c08",
   "metadata": {},
   "outputs": [],
   "source": [
    "!python 05_map_location_coordinates.py -K <YOUR_GOOGLE_MAP_API_KEY> -P 桃園市復興區華陵 -I unique_places.csv -O updated_places.csv -D place_db.csv"
   ]
  },
  {
   "cell_type": "markdown",
   "id": "bdbb3530",
   "metadata": {},
   "source": [
    "### 結論\n",
    "在本教程中，我們學習到如何通過 Google Maps API 查詢地點相關信息，並結合本地數據庫保存查詢結果。我們也學會了如何避免過多的 API 調用，通過數據庫來有效管理重複地名查詢。"
   ]
  }
 ],
 "metadata": {
  "kernelspec": {
   "display_name": "env",
   "language": "python",
   "name": "python3"
  },
  "language_info": {
   "codemirror_mode": {
    "name": "ipython",
    "version": 3
   },
   "file_extension": ".py",
   "mimetype": "text/x-python",
   "name": "python",
   "nbconvert_exporter": "python",
   "pygments_lexer": "ipython3",
   "version": "3.11.8"
  }
 },
 "nbformat": 4,
 "nbformat_minor": 5
}
