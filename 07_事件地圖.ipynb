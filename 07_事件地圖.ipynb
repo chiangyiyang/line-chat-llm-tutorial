{
 "cells": [
  {
   "cell_type": "markdown",
   "id": "e3574163",
   "metadata": {},
   "source": [
    "\n",
    "### 步驟 1：安裝 Folium 套件\n",
    "為了在地圖上顯示標籤，我們將使用 Folium 套件。這個單元格會檢查並安裝 Folium 套件。\n",
    "如果您已經安裝了 Folium，您可以跳過這一步。\n"
   ]
  },
  {
   "cell_type": "code",
   "execution_count": null,
   "metadata": {},
   "outputs": [],
   "source": [
    "!pip install folium\n"
   ]
  },
  {
   "cell_type": "markdown",
   "id": "d312b1da",
   "metadata": {},
   "source": [
    "\n",
    "### 步驟 2：載入資料並顯示於地圖上\n",
    "以下程式碼將完成幾個主要任務：\n",
    "1. **匯入必要的套件**：包括 Folium 用於地圖呈現，Pandas 用於讀取 CSV 資料。\n",
    "2. **讀取 CSV 檔案**：我們將 CSV 資料讀取為 DataFrame，方便後續使用。\n",
    "3. **計算地圖中心**：取所有標記的經緯度平均值來設定地圖中心。\n",
    "4. **迭代每個地點**：對每個座標加上標記，並使用 `popup` 和 `tooltip` 來顯示描述和地點名稱。\n",
    "5. **儲存地圖為 HTML 檔案**：將生成的地圖儲存為 HTML 檔案，供瀏覽器查看。\n",
    "\n",
    "運行這個單元格後，您將獲得一個地圖文件，顯示各個標記及其相關資訊。\n"
   ]
  },
  {
   "cell_type": "code",
   "execution_count": null,
   "metadata": {},
   "outputs": [],
   "source": [
    "import folium\n",
    "import pandas as pd\n",
    "\n",
    "# 載入 CSV 檔案\n",
    "csv_data = pd.read_csv('output_matched_events.csv')\n",
    "\n",
    "# 初始化地圖，將中心設置為平均座標\n",
    "avg_lat = csv_data['latitude'].mean()\n",
    "avg_lon = csv_data['longitude'].mean()\n",
    "m = folium.Map(location=[avg_lat, avg_lon], zoom_start=10)\n",
    "\n",
    "# 迭代 CSV 中的每一行並添加帶有標籤的標記\n",
    "for index, row in csv_data.iterrows():\n",
    "    # 設定標記，popup 顯示描述，tooltip 顯示地點名稱\n",
    "    folium.Marker(\n",
    "        location=[row['latitude'], row['longitude']],\n",
    "        popup=row['description'],\n",
    "        tooltip=row['name']\n",
    "    ).add_to(m)\n",
    "\n",
    "# 將地圖儲存為 HTML 檔案\n",
    "m.save(\"map_with_labels.html\")\n",
    "# 顯示地圖於 Notebook 中\n",
    "m\n"
   ]
  }
 ],
 "metadata": {
  "kernelspec": {
   "display_name": "env",
   "language": "python",
   "name": "python3"
  },
  "language_info": {
   "codemirror_mode": {
    "name": "ipython",
    "version": 3
   },
   "file_extension": ".py",
   "mimetype": "text/x-python",
   "name": "python",
   "nbconvert_exporter": "python",
   "pygments_lexer": "ipython3",
   "version": "3.11.8"
  }
 },
 "nbformat": 4,
 "nbformat_minor": 2
}
