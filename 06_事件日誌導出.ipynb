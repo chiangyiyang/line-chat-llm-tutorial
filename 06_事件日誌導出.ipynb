{
 "cells": [
  {
   "cell_type": "markdown",
   "id": "997c53a6",
   "metadata": {},
   "source": [
    "# 筆記本 6：事件地點匹配與輸出\n",
    "\n",
    "本節將從地名資料庫中查詢對應的地理座標，並匹配到對應的事件資料中。這些事件資料會包含地點、事件類型、時間以及其他補充資訊。這些數據將被組合並保存到新的 CSV 文件中，以便後續分析。\n",
    "\n",
    "## 目標\n",
    "- 匯入地名資料庫。\n",
    "- 從事件資料中查找對應的地點資訊。\n",
    "- 將事件資料與地點的 GPS 座標匹配並輸出。\n"
   ]
  },
  {
   "cell_type": "code",
   "execution_count": null,
   "id": "5daeb4bd",
   "metadata": {},
   "outputs": [],
   "source": [
    "# 安裝相關套件\n",
    "!pip install pandas"
   ]
  },
  {
   "cell_type": "markdown",
   "id": "4a67c365",
   "metadata": {},
   "source": [
    "### 步驟 1：載入地名資料庫\n",
    "首先，我們需要從地名資料庫中加載含有地點及其經緯度的數據。"
   ]
  },
  {
   "cell_type": "code",
   "execution_count": null,
   "id": "72bfd3b6",
   "metadata": {},
   "outputs": [],
   "source": [
    "import csv\n",
    "import pandas as pd\n",
    "\n",
    "def load_place_data(database_file):\n",
    "    \"\"\"\n",
    "    載入地點資料庫，將每個地名和對應的建議地名及經緯度資訊儲存到字典中。\n",
    "    \"\"\"\n",
    "    place_data = {}\n",
    "    with open(database_file, mode='r', encoding='utf-8') as db_file:\n",
    "        csv_reader = csv.DictReader(db_file, delimiter='|')\n",
    "        for row in csv_reader:\n",
    "            # 將整行資料儲存，以便地名和建議地名的使用\n",
    "            place_data[row['地名']] = {\n",
    "                'original_name': row['地名'],\n",
    "                'suggested_name': row['建議地名'],\n",
    "                'latitude': row['緯度'],\n",
    "                'longitude': row['經度']\n",
    "            }\n",
    "    return place_data\n",
    "\n",
    "# 測試載入地名資料庫\n",
    "place_data = load_place_data('place_db.csv')  # 假設地名資料庫文件的名稱\n",
    "print(list(place_data.items())[:5])  # 印出前 5 筆資料以檢查"
   ]
  },
  {
   "cell_type": "markdown",
   "id": "75ba455e",
   "metadata": {},
   "source": [
    "### 步驟 2：處理事件資料並匹配地點資訊\n",
    "接下來，我們將會從事件資料中讀取事件地點，並根據其名稱從地點資料庫中查找對應的經緯度。"
   ]
  },
  {
   "cell_type": "code",
   "execution_count": null,
   "id": "90478b14",
   "metadata": {},
   "outputs": [],
   "source": [
    "def process_event_data(input_file, place_data):\n",
    "    \"\"\"\n",
    "    處理輸入檔案，依據地點名稱匹配資料庫中的地名並組合事件資訊。\n",
    "    \"\"\"\n",
    "    processed_events = []\n",
    "    with open(input_file, mode='r', encoding='utf-8') as in_file:\n",
    "        csv_reader = csv.DictReader(in_file)\n",
    "        for row in csv_reader:\n",
    "            event_type = row['事件類型']\n",
    "            event_date = row['日期']\n",
    "            location = row['地點']\n",
    "            additional_info = row['額外說明']\n",
    "\n",
    "            # 確認地點是否在地點資料庫中\n",
    "            if location in place_data:\n",
    "                place_info = place_data[location]\n",
    "                combined_description = f\"{event_date}_{event_type}_{location}_{additional_info}\"\n",
    "                processed_events.append({\n",
    "                    'name': place_info['original_name'],  # 使用地名（原始名稱）\n",
    "                    'longitude': place_info['longitude'],\n",
    "                    'latitude': place_info['latitude'],\n",
    "                    'description': combined_description\n",
    "                })\n",
    "    return processed_events\n",
    "\n",
    "# 測試處理事件資料\n",
    "processed_events = process_event_data('event_log.txt', place_data)  # 假設事件資料文件名稱為 event_data.csv\n",
    "print(processed_events[:5])  # 顯示前 5 筆處理結果"
   ]
  },
  {
   "cell_type": "markdown",
   "id": "6d38c71f",
   "metadata": {},
   "source": [
    "### 步驟 3：將處理結果保存為 CSV 檔案\n",
    "我們將把匹配到的事件資料和地點寫入新的 CSV 檔案。"
   ]
  },
  {
   "cell_type": "code",
   "execution_count": null,
   "id": "0ce65f7e",
   "metadata": {},
   "outputs": [],
   "source": [
    "def save_to_csv(output_file, processed_events):\n",
    "    \"\"\"\n",
    "    將處理後的事件資料儲存至輸出檔案。\n",
    "    \"\"\"\n",
    "    with open(output_file, mode='w', newline='', encoding='utf-8') as out_file:\n",
    "        fieldnames = ['name', 'longitude', 'latitude', 'description']\n",
    "        csv_writer = csv.DictWriter(out_file, fieldnames=fieldnames)\n",
    "        csv_writer.writeheader()\n",
    "        for event in processed_events:\n",
    "            csv_writer.writerow(event)\n",
    "\n",
    "# 將結果寫入輸出檔案\n",
    "save_to_csv('output_matched_events.csv', processed_events)  # 假設輸出文件名稱為 output_matched_events.csv\n",
    "print('匹配結果已保存。')"
   ]
  },
  {
   "cell_type": "markdown",
   "id": "c9c84b54",
   "metadata": {},
   "source": [
    "### 結論\n",
    "在這個案例中，我們使用了一個地名資料庫來匹配事件的地點，並提取了相關的座標資訊。最終，我們將這些匹配結果輸出到一個 CSV 檔案，這可以應用於地點相關的分析中，例如地理可視化、事件分析等。\n",
    "\n",
    "### 可以進行的後續操作\n",
    "- 可以將匹配結果進行進一步的地圖可視化。\n",
    "- 可結合時間數據，進行地點與事件頻率的趨勢分析等。"
   ]
  }
 ],
 "metadata": {
  "kernelspec": {
   "display_name": "env",
   "language": "python",
   "name": "python3"
  },
  "language_info": {
   "codemirror_mode": {
    "name": "ipython",
    "version": 3
   },
   "file_extension": ".py",
   "mimetype": "text/x-python",
   "name": "python",
   "nbconvert_exporter": "python",
   "pygments_lexer": "ipython3",
   "version": "3.11.8"
  }
 },
 "nbformat": 4,
 "nbformat_minor": 5
}
